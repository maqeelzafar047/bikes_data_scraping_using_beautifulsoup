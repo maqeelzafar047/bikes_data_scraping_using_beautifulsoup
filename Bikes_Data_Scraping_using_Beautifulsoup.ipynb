{
  "nbformat": 4,
  "nbformat_minor": 0,
  "metadata": {
    "colab": {
      "provenance": []
    },
    "kernelspec": {
      "name": "python3",
      "display_name": "Python 3"
    },
    "language_info": {
      "name": "python"
    }
  },
  "cells": [
    {
      "cell_type": "markdown",
      "source": [
        "## **Bikes Data Scraping from `Bikez.com` using BeautifulSoup**"
      ],
      "metadata": {
        "id": "WdgaI462sM8z"
      }
    },
    {
      "cell_type": "markdown",
      "source": [
        "## **Overview**\n",
        "- Uses Python with libraries like `requests`, `BeautifulSoup`, and `pandas`.\n",
        "- Automatically detects all available years on Bikez.com.\n",
        "- Iteratively scrapes data for each year and appends it to a central DataFrame.\n",
        "- Limits the number of rows per year to manage load and testing.\n",
        "- Saves the resulting dataset to a CSV file named `bikes_data.csv`"
      ],
      "metadata": {
        "id": "ePzIpXl8rRov"
      }
    },
    {
      "cell_type": "markdown",
      "source": [
        "### **Import Libraries & Fetch All Available Years**"
      ],
      "metadata": {
        "id": "QnmWBMJGpamW"
      }
    },
    {
      "cell_type": "code",
      "source": [
        "from bs4 import BeautifulSoup\n",
        "import requests\n",
        "\n",
        "starting_url = 'https://bikez.com/years/index.php'\n",
        "starting_request = requests.get(starting_url)\n",
        "starting_soup = BeautifulSoup(starting_request.text, 'html.parser')\n",
        "\n",
        "even_years = starting_soup.find_all('td', {'class': 'even'})\n",
        "odd_years = starting_soup.find_all('td', {'class': 'odd'})\n",
        "all_years = even_years + odd_years\n"
      ],
      "metadata": {
        "id": "AoomYpyS4Kuk"
      },
      "execution_count": null,
      "outputs": []
    },
    {
      "cell_type": "markdown",
      "source": [
        "### **(Commented) Define Scraping Outline & Helper Function**\n",
        " - After scraping, check if the DataFrame is empty. If no data was collected, so need to uncomment this section and re-run the entire code agian."
      ],
      "metadata": {
        "id": "fl4J6TV-pIVX"
      }
    },
    {
      "cell_type": "code",
      "source": [
        "# import pandas as pd\n",
        "\n",
        "# models = pd.DataFrame(columns=['Model', 'Year', 'URL'])\n",
        "\n",
        "# for year in all_years:\n",
        "#     year_url = 'https://bikez.com' + year.a['href'].split('..')[1]\n",
        "#     year_text = year.a.text.strip()\n",
        "#     year_number = ''.join(filter(str.isdigit, year_text))  # Extract numbers like \"2024\"\n",
        "\n",
        "#     if not year_number:\n",
        "#         continue  # Skip if no year found\n",
        "\n",
        "#     year_models = scrape_year(year_url, int(year_number))\n",
        "#     models = pd.concat([models, year_models], ignore_index=True)\n"
      ],
      "metadata": {
        "id": "Z7BUQyE14Krr"
      },
      "execution_count": null,
      "outputs": []
    },
    {
      "cell_type": "markdown",
      "source": [
        "### **Initialize DataFrame & Loop Through Years to Build Dataset**"
      ],
      "metadata": {
        "id": "CYPTm4NqoA4e"
      }
    },
    {
      "cell_type": "code",
      "source": [
        "import pandas as pd\n",
        "\n",
        "models = pd.DataFrame(columns=['Model', 'Year', 'URL'])\n",
        "limit = 10000  # As much as you want to scrape but in the range of 42k\n",
        "count = 0\n",
        "\n",
        "for year in all_years:\n",
        "    if count >= limit:\n",
        "        break\n",
        "\n",
        "    year_url = 'https://bikez.com' + year.a['href'].split('..')[1]\n",
        "    year_text = year.a.text.strip()\n",
        "    year_number = ''.join(filter(str.isdigit, year_text))\n",
        "\n",
        "    if not year_number:\n",
        "        continue\n",
        "\n",
        "    year_models = scrape_year(year_url, int(year_number))\n",
        "\n",
        "    # Count how many rows we're about to add\n",
        "    remaining = limit - count\n",
        "    year_models = year_models.iloc[:remaining]  # Sirf required entries lo\n",
        "\n",
        "    models = pd.concat([models, year_models], ignore_index=True)\n",
        "    count += len(year_models)\n"
      ],
      "metadata": {
        "id": "sPB6dHIR584y"
      },
      "execution_count": null,
      "outputs": []
    },
    {
      "cell_type": "markdown",
      "source": [
        "### **Preview the First Five Results**\n",
        "- In Cell 4, to explain you’re printing a quick sample of the scraped data."
      ],
      "metadata": {
        "id": "McW8kOfboJLf"
      }
    },
    {
      "cell_type": "code",
      "source": [
        "print(\"Scraping complete! Showing 5 results:\")\n",
        "print(models.head())\n"
      ],
      "metadata": {
        "colab": {
          "base_uri": "https://localhost:8080/"
        },
        "id": "NY4CJt_d4Koa",
        "outputId": "7a4e1b7a-dfcd-4cc3-fcfa-fd9383b620d0"
      },
      "execution_count": null,
      "outputs": [
        {
          "output_type": "stream",
          "name": "stdout",
          "text": [
            "Scraping complete! Showing 5 results:\n",
            "                     Model  Year  \\\n",
            "0           Aeon AI-3 More  2024   \n",
            "1    AJP PR7 650 Adventure  2024   \n",
            "2         AJS Barletta 125  2024   \n",
            "3  Apollino AM Thunder 125  2024   \n",
            "4           Aprilia RS 457  2024   \n",
            "\n",
            "                                                 URL  \n",
            "0  https://bikez.com/motorcycles/aeon_ai-3_more_2...  \n",
            "1  https://bikez.com/motorcycles/ajp_pr7_650_adve...  \n",
            "2  https://bikez.com/motorcycles/ajs_barletta_125...  \n",
            "3  https://bikez.com/motorcycles/apollino_am_thun...  \n",
            "4  https://bikez.com/motorcycles/aprilia_rs_457_2...  \n"
          ]
        }
      ]
    },
    {
      "cell_type": "markdown",
      "source": [
        "### **Display the Full DataFrame in Jupyter**\n",
        "- Cell 5, indicating that merely writing models will render the entire table in the notebook."
      ],
      "metadata": {
        "id": "Jnk2QmreoXFj"
      }
    },
    {
      "cell_type": "code",
      "source": [
        "models"
      ],
      "metadata": {
        "colab": {
          "base_uri": "https://localhost:8080/",
          "height": 423
        },
        "id": "2wbBcWx84y9A",
        "outputId": "5fbbfb72-0b0b-492e-ab93-fa7304c53592"
      },
      "execution_count": null,
      "outputs": [
        {
          "output_type": "execute_result",
          "data": {
            "text/plain": [
              "                        Model  Year  \\\n",
              "0              Aeon AI-3 More  2024   \n",
              "1       AJP PR7 650 Adventure  2024   \n",
              "2            AJS Barletta 125  2024   \n",
              "3     Apollino AM Thunder 125  2024   \n",
              "4              Aprilia RS 457  2024   \n",
              "...                       ...   ...   \n",
              "9995        Kymco G-Dink 300i  2012   \n",
              "9996          Kymco K-XCT 125  2012   \n",
              "9997           Kymco Like 125  2012   \n",
              "9998       Kymco Like 200i LX  2012   \n",
              "9999      Kymco Like 50 2T LX  2012   \n",
              "\n",
              "                                                    URL  \n",
              "0     https://bikez.com/motorcycles/aeon_ai-3_more_2...  \n",
              "1     https://bikez.com/motorcycles/ajp_pr7_650_adve...  \n",
              "2     https://bikez.com/motorcycles/ajs_barletta_125...  \n",
              "3     https://bikez.com/motorcycles/apollino_am_thun...  \n",
              "4     https://bikez.com/motorcycles/aprilia_rs_457_2...  \n",
              "...                                                 ...  \n",
              "9995  https://bikez.com/motorcycles/kymco_g-dink_300...  \n",
              "9996  https://bikez.com/motorcycles/kymco_k-xct_125_...  \n",
              "9997  https://bikez.com/motorcycles/kymco_like_125_2...  \n",
              "9998  https://bikez.com/motorcycles/kymco_like_200i_...  \n",
              "9999  https://bikez.com/motorcycles/kymco_like_50_2t...  \n",
              "\n",
              "[10000 rows x 3 columns]"
            ],
            "text/html": [
              "\n",
              "  <div id=\"df-df8a0cef-a245-478b-98c9-84dccb35f63d\" class=\"colab-df-container\">\n",
              "    <div>\n",
              "<style scoped>\n",
              "    .dataframe tbody tr th:only-of-type {\n",
              "        vertical-align: middle;\n",
              "    }\n",
              "\n",
              "    .dataframe tbody tr th {\n",
              "        vertical-align: top;\n",
              "    }\n",
              "\n",
              "    .dataframe thead th {\n",
              "        text-align: right;\n",
              "    }\n",
              "</style>\n",
              "<table border=\"1\" class=\"dataframe\">\n",
              "  <thead>\n",
              "    <tr style=\"text-align: right;\">\n",
              "      <th></th>\n",
              "      <th>Model</th>\n",
              "      <th>Year</th>\n",
              "      <th>URL</th>\n",
              "    </tr>\n",
              "  </thead>\n",
              "  <tbody>\n",
              "    <tr>\n",
              "      <th>0</th>\n",
              "      <td>Aeon AI-3 More</td>\n",
              "      <td>2024</td>\n",
              "      <td>https://bikez.com/motorcycles/aeon_ai-3_more_2...</td>\n",
              "    </tr>\n",
              "    <tr>\n",
              "      <th>1</th>\n",
              "      <td>AJP PR7 650 Adventure</td>\n",
              "      <td>2024</td>\n",
              "      <td>https://bikez.com/motorcycles/ajp_pr7_650_adve...</td>\n",
              "    </tr>\n",
              "    <tr>\n",
              "      <th>2</th>\n",
              "      <td>AJS Barletta 125</td>\n",
              "      <td>2024</td>\n",
              "      <td>https://bikez.com/motorcycles/ajs_barletta_125...</td>\n",
              "    </tr>\n",
              "    <tr>\n",
              "      <th>3</th>\n",
              "      <td>Apollino AM Thunder 125</td>\n",
              "      <td>2024</td>\n",
              "      <td>https://bikez.com/motorcycles/apollino_am_thun...</td>\n",
              "    </tr>\n",
              "    <tr>\n",
              "      <th>4</th>\n",
              "      <td>Aprilia RS 457</td>\n",
              "      <td>2024</td>\n",
              "      <td>https://bikez.com/motorcycles/aprilia_rs_457_2...</td>\n",
              "    </tr>\n",
              "    <tr>\n",
              "      <th>...</th>\n",
              "      <td>...</td>\n",
              "      <td>...</td>\n",
              "      <td>...</td>\n",
              "    </tr>\n",
              "    <tr>\n",
              "      <th>9995</th>\n",
              "      <td>Kymco G-Dink 300i</td>\n",
              "      <td>2012</td>\n",
              "      <td>https://bikez.com/motorcycles/kymco_g-dink_300...</td>\n",
              "    </tr>\n",
              "    <tr>\n",
              "      <th>9996</th>\n",
              "      <td>Kymco K-XCT 125</td>\n",
              "      <td>2012</td>\n",
              "      <td>https://bikez.com/motorcycles/kymco_k-xct_125_...</td>\n",
              "    </tr>\n",
              "    <tr>\n",
              "      <th>9997</th>\n",
              "      <td>Kymco Like 125</td>\n",
              "      <td>2012</td>\n",
              "      <td>https://bikez.com/motorcycles/kymco_like_125_2...</td>\n",
              "    </tr>\n",
              "    <tr>\n",
              "      <th>9998</th>\n",
              "      <td>Kymco Like 200i LX</td>\n",
              "      <td>2012</td>\n",
              "      <td>https://bikez.com/motorcycles/kymco_like_200i_...</td>\n",
              "    </tr>\n",
              "    <tr>\n",
              "      <th>9999</th>\n",
              "      <td>Kymco Like 50 2T LX</td>\n",
              "      <td>2012</td>\n",
              "      <td>https://bikez.com/motorcycles/kymco_like_50_2t...</td>\n",
              "    </tr>\n",
              "  </tbody>\n",
              "</table>\n",
              "<p>10000 rows × 3 columns</p>\n",
              "</div>\n",
              "    <div class=\"colab-df-buttons\">\n",
              "\n",
              "  <div class=\"colab-df-container\">\n",
              "    <button class=\"colab-df-convert\" onclick=\"convertToInteractive('df-df8a0cef-a245-478b-98c9-84dccb35f63d')\"\n",
              "            title=\"Convert this dataframe to an interactive table.\"\n",
              "            style=\"display:none;\">\n",
              "\n",
              "  <svg xmlns=\"http://www.w3.org/2000/svg\" height=\"24px\" viewBox=\"0 -960 960 960\">\n",
              "    <path d=\"M120-120v-720h720v720H120Zm60-500h600v-160H180v160Zm220 220h160v-160H400v160Zm0 220h160v-160H400v160ZM180-400h160v-160H180v160Zm440 0h160v-160H620v160ZM180-180h160v-160H180v160Zm440 0h160v-160H620v160Z\"/>\n",
              "  </svg>\n",
              "    </button>\n",
              "\n",
              "  <style>\n",
              "    .colab-df-container {\n",
              "      display:flex;\n",
              "      gap: 12px;\n",
              "    }\n",
              "\n",
              "    .colab-df-convert {\n",
              "      background-color: #E8F0FE;\n",
              "      border: none;\n",
              "      border-radius: 50%;\n",
              "      cursor: pointer;\n",
              "      display: none;\n",
              "      fill: #1967D2;\n",
              "      height: 32px;\n",
              "      padding: 0 0 0 0;\n",
              "      width: 32px;\n",
              "    }\n",
              "\n",
              "    .colab-df-convert:hover {\n",
              "      background-color: #E2EBFA;\n",
              "      box-shadow: 0px 1px 2px rgba(60, 64, 67, 0.3), 0px 1px 3px 1px rgba(60, 64, 67, 0.15);\n",
              "      fill: #174EA6;\n",
              "    }\n",
              "\n",
              "    .colab-df-buttons div {\n",
              "      margin-bottom: 4px;\n",
              "    }\n",
              "\n",
              "    [theme=dark] .colab-df-convert {\n",
              "      background-color: #3B4455;\n",
              "      fill: #D2E3FC;\n",
              "    }\n",
              "\n",
              "    [theme=dark] .colab-df-convert:hover {\n",
              "      background-color: #434B5C;\n",
              "      box-shadow: 0px 1px 3px 1px rgba(0, 0, 0, 0.15);\n",
              "      filter: drop-shadow(0px 1px 2px rgba(0, 0, 0, 0.3));\n",
              "      fill: #FFFFFF;\n",
              "    }\n",
              "  </style>\n",
              "\n",
              "    <script>\n",
              "      const buttonEl =\n",
              "        document.querySelector('#df-df8a0cef-a245-478b-98c9-84dccb35f63d button.colab-df-convert');\n",
              "      buttonEl.style.display =\n",
              "        google.colab.kernel.accessAllowed ? 'block' : 'none';\n",
              "\n",
              "      async function convertToInteractive(key) {\n",
              "        const element = document.querySelector('#df-df8a0cef-a245-478b-98c9-84dccb35f63d');\n",
              "        const dataTable =\n",
              "          await google.colab.kernel.invokeFunction('convertToInteractive',\n",
              "                                                    [key], {});\n",
              "        if (!dataTable) return;\n",
              "\n",
              "        const docLinkHtml = 'Like what you see? Visit the ' +\n",
              "          '<a target=\"_blank\" href=https://colab.research.google.com/notebooks/data_table.ipynb>data table notebook</a>'\n",
              "          + ' to learn more about interactive tables.';\n",
              "        element.innerHTML = '';\n",
              "        dataTable['output_type'] = 'display_data';\n",
              "        await google.colab.output.renderOutput(dataTable, element);\n",
              "        const docLink = document.createElement('div');\n",
              "        docLink.innerHTML = docLinkHtml;\n",
              "        element.appendChild(docLink);\n",
              "      }\n",
              "    </script>\n",
              "  </div>\n",
              "\n",
              "\n",
              "    <div id=\"df-fcec4f09-a3ae-4c07-b16b-21f9155b5de3\">\n",
              "      <button class=\"colab-df-quickchart\" onclick=\"quickchart('df-fcec4f09-a3ae-4c07-b16b-21f9155b5de3')\"\n",
              "                title=\"Suggest charts\"\n",
              "                style=\"display:none;\">\n",
              "\n",
              "<svg xmlns=\"http://www.w3.org/2000/svg\" height=\"24px\"viewBox=\"0 0 24 24\"\n",
              "     width=\"24px\">\n",
              "    <g>\n",
              "        <path d=\"M19 3H5c-1.1 0-2 .9-2 2v14c0 1.1.9 2 2 2h14c1.1 0 2-.9 2-2V5c0-1.1-.9-2-2-2zM9 17H7v-7h2v7zm4 0h-2V7h2v10zm4 0h-2v-4h2v4z\"/>\n",
              "    </g>\n",
              "</svg>\n",
              "      </button>\n",
              "\n",
              "<style>\n",
              "  .colab-df-quickchart {\n",
              "      --bg-color: #E8F0FE;\n",
              "      --fill-color: #1967D2;\n",
              "      --hover-bg-color: #E2EBFA;\n",
              "      --hover-fill-color: #174EA6;\n",
              "      --disabled-fill-color: #AAA;\n",
              "      --disabled-bg-color: #DDD;\n",
              "  }\n",
              "\n",
              "  [theme=dark] .colab-df-quickchart {\n",
              "      --bg-color: #3B4455;\n",
              "      --fill-color: #D2E3FC;\n",
              "      --hover-bg-color: #434B5C;\n",
              "      --hover-fill-color: #FFFFFF;\n",
              "      --disabled-bg-color: #3B4455;\n",
              "      --disabled-fill-color: #666;\n",
              "  }\n",
              "\n",
              "  .colab-df-quickchart {\n",
              "    background-color: var(--bg-color);\n",
              "    border: none;\n",
              "    border-radius: 50%;\n",
              "    cursor: pointer;\n",
              "    display: none;\n",
              "    fill: var(--fill-color);\n",
              "    height: 32px;\n",
              "    padding: 0;\n",
              "    width: 32px;\n",
              "  }\n",
              "\n",
              "  .colab-df-quickchart:hover {\n",
              "    background-color: var(--hover-bg-color);\n",
              "    box-shadow: 0 1px 2px rgba(60, 64, 67, 0.3), 0 1px 3px 1px rgba(60, 64, 67, 0.15);\n",
              "    fill: var(--button-hover-fill-color);\n",
              "  }\n",
              "\n",
              "  .colab-df-quickchart-complete:disabled,\n",
              "  .colab-df-quickchart-complete:disabled:hover {\n",
              "    background-color: var(--disabled-bg-color);\n",
              "    fill: var(--disabled-fill-color);\n",
              "    box-shadow: none;\n",
              "  }\n",
              "\n",
              "  .colab-df-spinner {\n",
              "    border: 2px solid var(--fill-color);\n",
              "    border-color: transparent;\n",
              "    border-bottom-color: var(--fill-color);\n",
              "    animation:\n",
              "      spin 1s steps(1) infinite;\n",
              "  }\n",
              "\n",
              "  @keyframes spin {\n",
              "    0% {\n",
              "      border-color: transparent;\n",
              "      border-bottom-color: var(--fill-color);\n",
              "      border-left-color: var(--fill-color);\n",
              "    }\n",
              "    20% {\n",
              "      border-color: transparent;\n",
              "      border-left-color: var(--fill-color);\n",
              "      border-top-color: var(--fill-color);\n",
              "    }\n",
              "    30% {\n",
              "      border-color: transparent;\n",
              "      border-left-color: var(--fill-color);\n",
              "      border-top-color: var(--fill-color);\n",
              "      border-right-color: var(--fill-color);\n",
              "    }\n",
              "    40% {\n",
              "      border-color: transparent;\n",
              "      border-right-color: var(--fill-color);\n",
              "      border-top-color: var(--fill-color);\n",
              "    }\n",
              "    60% {\n",
              "      border-color: transparent;\n",
              "      border-right-color: var(--fill-color);\n",
              "    }\n",
              "    80% {\n",
              "      border-color: transparent;\n",
              "      border-right-color: var(--fill-color);\n",
              "      border-bottom-color: var(--fill-color);\n",
              "    }\n",
              "    90% {\n",
              "      border-color: transparent;\n",
              "      border-bottom-color: var(--fill-color);\n",
              "    }\n",
              "  }\n",
              "</style>\n",
              "\n",
              "      <script>\n",
              "        async function quickchart(key) {\n",
              "          const quickchartButtonEl =\n",
              "            document.querySelector('#' + key + ' button');\n",
              "          quickchartButtonEl.disabled = true;  // To prevent multiple clicks.\n",
              "          quickchartButtonEl.classList.add('colab-df-spinner');\n",
              "          try {\n",
              "            const charts = await google.colab.kernel.invokeFunction(\n",
              "                'suggestCharts', [key], {});\n",
              "          } catch (error) {\n",
              "            console.error('Error during call to suggestCharts:', error);\n",
              "          }\n",
              "          quickchartButtonEl.classList.remove('colab-df-spinner');\n",
              "          quickchartButtonEl.classList.add('colab-df-quickchart-complete');\n",
              "        }\n",
              "        (() => {\n",
              "          let quickchartButtonEl =\n",
              "            document.querySelector('#df-fcec4f09-a3ae-4c07-b16b-21f9155b5de3 button');\n",
              "          quickchartButtonEl.style.display =\n",
              "            google.colab.kernel.accessAllowed ? 'block' : 'none';\n",
              "        })();\n",
              "      </script>\n",
              "    </div>\n",
              "\n",
              "  <div id=\"id_884b5ae5-57d9-48fc-af15-5c634ae51857\">\n",
              "    <style>\n",
              "      .colab-df-generate {\n",
              "        background-color: #E8F0FE;\n",
              "        border: none;\n",
              "        border-radius: 50%;\n",
              "        cursor: pointer;\n",
              "        display: none;\n",
              "        fill: #1967D2;\n",
              "        height: 32px;\n",
              "        padding: 0 0 0 0;\n",
              "        width: 32px;\n",
              "      }\n",
              "\n",
              "      .colab-df-generate:hover {\n",
              "        background-color: #E2EBFA;\n",
              "        box-shadow: 0px 1px 2px rgba(60, 64, 67, 0.3), 0px 1px 3px 1px rgba(60, 64, 67, 0.15);\n",
              "        fill: #174EA6;\n",
              "      }\n",
              "\n",
              "      [theme=dark] .colab-df-generate {\n",
              "        background-color: #3B4455;\n",
              "        fill: #D2E3FC;\n",
              "      }\n",
              "\n",
              "      [theme=dark] .colab-df-generate:hover {\n",
              "        background-color: #434B5C;\n",
              "        box-shadow: 0px 1px 3px 1px rgba(0, 0, 0, 0.15);\n",
              "        filter: drop-shadow(0px 1px 2px rgba(0, 0, 0, 0.3));\n",
              "        fill: #FFFFFF;\n",
              "      }\n",
              "    </style>\n",
              "    <button class=\"colab-df-generate\" onclick=\"generateWithVariable('models')\"\n",
              "            title=\"Generate code using this dataframe.\"\n",
              "            style=\"display:none;\">\n",
              "\n",
              "  <svg xmlns=\"http://www.w3.org/2000/svg\" height=\"24px\"viewBox=\"0 0 24 24\"\n",
              "       width=\"24px\">\n",
              "    <path d=\"M7,19H8.4L18.45,9,17,7.55,7,17.6ZM5,21V16.75L18.45,3.32a2,2,0,0,1,2.83,0l1.4,1.43a1.91,1.91,0,0,1,.58,1.4,1.91,1.91,0,0,1-.58,1.4L9.25,21ZM18.45,9,17,7.55Zm-12,3A5.31,5.31,0,0,0,4.9,8.1,5.31,5.31,0,0,0,1,6.5,5.31,5.31,0,0,0,4.9,4.9,5.31,5.31,0,0,0,6.5,1,5.31,5.31,0,0,0,8.1,4.9,5.31,5.31,0,0,0,12,6.5,5.46,5.46,0,0,0,6.5,12Z\"/>\n",
              "  </svg>\n",
              "    </button>\n",
              "    <script>\n",
              "      (() => {\n",
              "      const buttonEl =\n",
              "        document.querySelector('#id_884b5ae5-57d9-48fc-af15-5c634ae51857 button.colab-df-generate');\n",
              "      buttonEl.style.display =\n",
              "        google.colab.kernel.accessAllowed ? 'block' : 'none';\n",
              "\n",
              "      buttonEl.onclick = () => {\n",
              "        google.colab.notebook.generateWithVariable('models');\n",
              "      }\n",
              "      })();\n",
              "    </script>\n",
              "  </div>\n",
              "\n",
              "    </div>\n",
              "  </div>\n"
            ],
            "application/vnd.google.colaboratory.intrinsic+json": {
              "type": "dataframe",
              "variable_name": "models",
              "summary": "{\n  \"name\": \"models\",\n  \"rows\": 10000,\n  \"fields\": [\n    {\n      \"column\": \"Model\",\n      \"properties\": {\n        \"dtype\": \"string\",\n        \"num_unique_values\": 6964,\n        \"samples\": [\n          \"Fantic Caballero 500 Anniversary\",\n          \"Vmoto E-Max City 80L\",\n          \"Romet R 250\"\n        ],\n        \"semantic_type\": \"\",\n        \"description\": \"\"\n      }\n    },\n    {\n      \"column\": \"Year\",\n      \"properties\": {\n        \"dtype\": \"date\",\n        \"min\": 2012,\n        \"max\": 2024,\n        \"num_unique_values\": 7,\n        \"samples\": [\n          2024,\n          2022,\n          2014\n        ],\n        \"semantic_type\": \"\",\n        \"description\": \"\"\n      }\n    },\n    {\n      \"column\": \"URL\",\n      \"properties\": {\n        \"dtype\": \"string\",\n        \"num_unique_values\": 9997,\n        \"samples\": [\n          \"https://bikez.com/motorcycles/serpento_draco_250_2020.php\",\n          \"https://bikez.com/motorcycles/neco_borsalino_due_125_efi_2020.php\",\n          \"https://bikez.com/motorcycles/saxxx_e-bee_2022.php\"\n        ],\n        \"semantic_type\": \"\",\n        \"description\": \"\"\n      }\n    }\n  ]\n}"
            }
          },
          "metadata": {},
          "execution_count": 17
        }
      ]
    },
    {
      "cell_type": "markdown",
      "source": [
        "### **Save the Collected Data to CSV**\n",
        "- Cell 6, explaining that this cell writes `models out to csv` file name bikes_data.csv."
      ],
      "metadata": {
        "id": "lELX90vxokIK"
      }
    },
    {
      "cell_type": "code",
      "source": [
        "models.to_csv('bikes_data.csv', index=False)"
      ],
      "metadata": {
        "id": "ree4fof44t5U"
      },
      "execution_count": null,
      "outputs": []
    },
    {
      "cell_type": "markdown",
      "source": [
        "### **Final Completion Message**\n",
        "- Cell 7, noting that this prints a friendly `“Alhumdulillah”` message when done."
      ],
      "metadata": {
        "id": "04NbV15Qo5L9"
      }
    },
    {
      "cell_type": "code",
      "source": [
        "print(\"Alhumdulillah (^_^)\")"
      ],
      "metadata": {
        "id": "Z5HcttLk6eXN",
        "colab": {
          "base_uri": "https://localhost:8080/"
        },
        "outputId": "427d3950-6fef-445f-f65f-63e36cd76939"
      },
      "execution_count": 1,
      "outputs": [
        {
          "output_type": "stream",
          "name": "stdout",
          "text": [
            "Alhumdulillah (^_^)\n"
          ]
        }
      ]
    }
  ]
}